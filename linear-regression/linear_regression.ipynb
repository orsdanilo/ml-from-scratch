{
 "cells": [
  {
   "cell_type": "markdown",
   "metadata": {},
   "source": [
    "# Linear Regression"
   ]
  },
  {
   "cell_type": "markdown",
   "metadata": {},
   "source": [
    "The idea here is to fit the data points to a linear equation\n",
    "\n",
    "> $ŷ = X w$\n",
    "\n",
    "where $ŷ$ is a vector of predictions, $X$ represents the data points, and $w$ is a group of coefficients"
   ]
  },
  {
   "cell_type": "code",
   "execution_count": 11,
   "metadata": {},
   "outputs": [],
   "source": [
    "import os\n",
    "import sys\n",
    "module_path = os.path.abspath(os.path.join('..'))\n",
    "if module_path not in sys.path:\n",
    "    sys.path.append(module_path)"
   ]
  },
  {
   "cell_type": "code",
   "execution_count": 12,
   "metadata": {},
   "outputs": [],
   "source": [
    "%load_ext autoreload\n",
    "%autoreload 2"
   ]
  },
  {
   "cell_type": "code",
   "execution_count": 13,
   "metadata": {},
   "outputs": [],
   "source": [
    "%matplotlib inline\n",
    "\n",
    "import numpy as np\n",
    "import pandas as pd\n",
    "import math\n",
    "import matplotlib.pyplot as plt\n",
    "from numpy.linalg import inv\n",
    "from pathlib import Path\n",
    "from src.features.build_features import *"
   ]
  },
  {
   "cell_type": "markdown",
   "metadata": {},
   "source": [
    "## Data Processing"
   ]
  },
  {
   "cell_type": "code",
   "execution_count": 15,
   "metadata": {},
   "outputs": [],
   "source": [
    "data_path = Path(\"./x11.txt\")\n",
    "df = pd.read_csv(data_path, sep='  ', index_col=0, skiprows=38, names=['index','rent_arable_acre', 'cows_mile^2', 'diff_pasture_arable', 'rent_grassy_acre'])"
   ]
  },
  {
   "cell_type": "code",
   "execution_count": 34,
   "metadata": {},
   "outputs": [
    {
     "output_type": "display_data",
     "data": {
      "text/plain": "<Figure size 432x288 with 1 Axes>",
      "image/svg+xml": "<?xml version=\"1.0\" encoding=\"utf-8\" standalone=\"no\"?>\n<!DOCTYPE svg PUBLIC \"-//W3C//DTD SVG 1.1//EN\"\n  \"http://www.w3.org/Graphics/SVG/1.1/DTD/svg11.dtd\">\n<!-- Created with matplotlib (https://matplotlib.org/) -->\n<svg height=\"248.518125pt\" version=\"1.1\" viewBox=\"0 0 375.2875 248.518125\" width=\"375.2875pt\" xmlns=\"http://www.w3.org/2000/svg\" xmlns:xlink=\"http://www.w3.org/1999/xlink\">\n <defs>\n  <style type=\"text/css\">\n*{stroke-linecap:butt;stroke-linejoin:round;}\n  </style>\n </defs>\n <g id=\"figure_1\">\n  <g id=\"patch_1\">\n   <path d=\"M 0 248.518125 \nL 375.2875 248.518125 \nL 375.2875 0 \nL 0 0 \nz\n\" style=\"fill:#ffffff;\"/>\n  </g>\n  <g id=\"axes_1\">\n   <g id=\"patch_2\">\n    <path d=\"M 33.2875 224.64 \nL 368.0875 224.64 \nL 368.0875 7.2 \nL 33.2875 7.2 \nz\n\" style=\"fill:#ffffff;\"/>\n   </g>\n   <g id=\"PathCollection_1\">\n    <defs>\n     <path d=\"M 0 3 \nC 0.795609 3 1.55874 2.683901 2.12132 2.12132 \nC 2.683901 1.55874 3 0.795609 3 0 \nC 3 -0.795609 2.683901 -1.55874 2.12132 -2.12132 \nC 1.55874 -2.683901 0.795609 -3 0 -3 \nC -0.795609 -3 -1.55874 -2.683901 -2.12132 -2.12132 \nC -2.683901 -1.55874 -3 -0.795609 -3 0 \nC -3 0.795609 -2.683901 1.55874 -2.12132 2.12132 \nC -1.55874 2.683901 -0.795609 3 0 3 \nz\n\" id=\"mce99937bea\" style=\"stroke:#1f77b4;\"/>\n    </defs>\n    <g clip-path=\"url(#p9140c60c3e)\">\n     <use style=\"fill:#1f77b4;stroke:#1f77b4;\" x=\"144.162825\" xlink:href=\"#mce99937bea\" y=\"186.670337\"/>\n     <use style=\"fill:#1f77b4;stroke:#1f77b4;\" x=\"126.770617\" xlink:href=\"#mce99937bea\" y=\"183.269787\"/>\n     <use style=\"fill:#1f77b4;stroke:#1f77b4;\" x=\"91.986201\" xlink:href=\"#mce99937bea\" y=\"201.11218\"/>\n     <use style=\"fill:#1f77b4;stroke:#1f77b4;\" x=\"91.986201\" xlink:href=\"#mce99937bea\" y=\"172.774262\"/>\n     <use style=\"fill:#1f77b4;stroke:#1f77b4;\" x=\"57.201786\" xlink:href=\"#mce99937bea\" y=\"94.05782\"/>\n     <use style=\"fill:#1f77b4;stroke:#1f77b4;\" x=\"61.549838\" xlink:href=\"#mce99937bea\" y=\"52.075718\"/>\n     <use style=\"fill:#1f77b4;stroke:#1f77b4;\" x=\"157.206981\" xlink:href=\"#mce99937bea\" y=\"172.774262\"/>\n     <use style=\"fill:#1f77b4;stroke:#1f77b4;\" x=\"83.290097\" xlink:href=\"#mce99937bea\" y=\"160.872336\"/>\n     <use style=\"fill:#1f77b4;stroke:#1f77b4;\" x=\"218.079708\" xlink:href=\"#mce99937bea\" y=\"200.062628\"/>\n     <use style=\"fill:#1f77b4;stroke:#1f77b4;\" x=\"57.201786\" xlink:href=\"#mce99937bea\" y=\"96.681702\"/>\n     <use style=\"fill:#1f77b4;stroke:#1f77b4;\" x=\"91.986201\" xlink:href=\"#mce99937bea\" y=\"99.305583\"/>\n     <use style=\"fill:#1f77b4;stroke:#1f77b4;\" x=\"74.593994\" xlink:href=\"#mce99937bea\" y=\"83.562295\"/>\n     <use style=\"fill:#1f77b4;stroke:#1f77b4;\" x=\"131.118669\" xlink:href=\"#mce99937bea\" y=\"160.179631\"/>\n     <use style=\"fill:#1f77b4;stroke:#1f77b4;\" x=\"113.726461\" xlink:href=\"#mce99937bea\" y=\"99.305583\"/>\n     <use style=\"fill:#1f77b4;stroke:#1f77b4;\" x=\"61.549838\" xlink:href=\"#mce99937bea\" y=\"73.066769\"/>\n     <use style=\"fill:#1f77b4;stroke:#1f77b4;\" x=\"109.378409\" xlink:href=\"#mce99937bea\" y=\"98.612878\"/>\n     <use style=\"fill:#1f77b4;stroke:#1f77b4;\" x=\"178.94724\" xlink:href=\"#mce99937bea\" y=\"120.82141\"/>\n     <use style=\"fill:#1f77b4;stroke:#1f77b4;\" x=\"74.593994\" xlink:href=\"#mce99937bea\" y=\"207.409496\"/>\n     <use style=\"fill:#1f77b4;stroke:#1f77b4;\" x=\"144.162825\" xlink:href=\"#mce99937bea\" y=\"148.634553\"/>\n     <use style=\"fill:#1f77b4;stroke:#1f77b4;\" x=\"61.549838\" xlink:href=\"#mce99937bea\" y=\"99.305583\"/>\n     <use style=\"fill:#1f77b4;stroke:#1f77b4;\" x=\"352.869318\" xlink:href=\"#mce99937bea\" y=\"191.141431\"/>\n     <use style=\"fill:#1f77b4;stroke:#1f77b4;\" x=\"122.422565\" xlink:href=\"#mce99937bea\" y=\"120.296634\"/>\n     <use style=\"fill:#1f77b4;stroke:#1f77b4;\" x=\"83.290097\" xlink:href=\"#mce99937bea\" y=\"200.90227\"/>\n     <use style=\"fill:#1f77b4;stroke:#1f77b4;\" x=\"74.593994\" xlink:href=\"#mce99937bea\" y=\"151.783211\"/>\n     <use style=\"fill:#1f77b4;stroke:#1f77b4;\" x=\"78.942045\" xlink:href=\"#mce99937bea\" y=\"67.819007\"/>\n     <use style=\"fill:#1f77b4;stroke:#1f77b4;\" x=\"113.726461\" xlink:href=\"#mce99937bea\" y=\"159.004132\"/>\n     <use style=\"fill:#1f77b4;stroke:#1f77b4;\" x=\"96.334253\" xlink:href=\"#mce99937bea\" y=\"123.445292\"/>\n     <use style=\"fill:#1f77b4;stroke:#1f77b4;\" x=\"96.334253\" xlink:href=\"#mce99937bea\" y=\"62.571244\"/>\n     <use style=\"fill:#1f77b4;stroke:#1f77b4;\" x=\"131.118669\" xlink:href=\"#mce99937bea\" y=\"179.764282\"/>\n     <use style=\"fill:#1f77b4;stroke:#1f77b4;\" x=\"83.290097\" xlink:href=\"#mce99937bea\" y=\"183.794563\"/>\n     <use style=\"fill:#1f77b4;stroke:#1f77b4;\" x=\"152.858929\" xlink:href=\"#mce99937bea\" y=\"107.702004\"/>\n     <use style=\"fill:#1f77b4;stroke:#1f77b4;\" x=\"226.775812\" xlink:href=\"#mce99937bea\" y=\"172.774262\"/>\n     <use style=\"fill:#1f77b4;stroke:#1f77b4;\" x=\"283.300487\" xlink:href=\"#mce99937bea\" y=\"141.287685\"/>\n     <use style=\"fill:#1f77b4;stroke:#1f77b4;\" x=\"61.549838\" xlink:href=\"#mce99937bea\" y=\"106.295603\"/>\n     <use style=\"fill:#1f77b4;stroke:#1f77b4;\" x=\"105.030357\" xlink:href=\"#mce99937bea\" y=\"116.539236\"/>\n     <use style=\"fill:#1f77b4;stroke:#1f77b4;\" x=\"61.549838\" xlink:href=\"#mce99937bea\" y=\"22.331399\"/>\n     <use style=\"fill:#1f77b4;stroke:#1f77b4;\" x=\"74.593994\" xlink:href=\"#mce99937bea\" y=\"118.554377\"/>\n     <use style=\"fill:#1f77b4;stroke:#1f77b4;\" x=\"83.290097\" xlink:href=\"#mce99937bea\" y=\"153.189611\"/>\n     <use style=\"fill:#1f77b4;stroke:#1f77b4;\" x=\"131.118669\" xlink:href=\"#mce99937bea\" y=\"122.920516\"/>\n     <use style=\"fill:#1f77b4;stroke:#1f77b4;\" x=\"144.162825\" xlink:href=\"#mce99937bea\" y=\"171.094978\"/>\n     <use style=\"fill:#1f77b4;stroke:#1f77b4;\" x=\"65.89789\" xlink:href=\"#mce99937bea\" y=\"183.269787\"/>\n     <use style=\"fill:#1f77b4;stroke:#1f77b4;\" x=\"326.781006\" xlink:href=\"#mce99937bea\" y=\"191.666208\"/>\n     <use style=\"fill:#1f77b4;stroke:#1f77b4;\" x=\"105.030357\" xlink:href=\"#mce99937bea\" y=\"123.088444\"/>\n     <use style=\"fill:#1f77b4;stroke:#1f77b4;\" x=\"52.853734\" xlink:href=\"#mce99937bea\" y=\"181.632485\"/>\n     <use style=\"fill:#1f77b4;stroke:#1f77b4;\" x=\"122.422565\" xlink:href=\"#mce99937bea\" y=\"157.030973\"/>\n     <use style=\"fill:#1f77b4;stroke:#1f77b4;\" x=\"83.290097\" xlink:href=\"#mce99937bea\" y=\"185.368892\"/>\n     <use style=\"fill:#1f77b4;stroke:#1f77b4;\" x=\"57.201786\" xlink:href=\"#mce99937bea\" y=\"117.147976\"/>\n     <use style=\"fill:#1f77b4;stroke:#1f77b4;\" x=\"48.505682\" xlink:href=\"#mce99937bea\" y=\"122.038891\"/>\n     <use style=\"fill:#1f77b4;stroke:#1f77b4;\" x=\"135.466721\" xlink:href=\"#mce99937bea\" y=\"46.827956\"/>\n     <use style=\"fill:#1f77b4;stroke:#1f77b4;\" x=\"87.638149\" xlink:href=\"#mce99937bea\" y=\"101.908473\"/>\n     <use style=\"fill:#1f77b4;stroke:#1f77b4;\" x=\"65.89789\" xlink:href=\"#mce99937bea\" y=\"184.676188\"/>\n     <use style=\"fill:#1f77b4;stroke:#1f77b4;\" x=\"118.074513\" xlink:href=\"#mce99937bea\" y=\"214.756364\"/>\n     <use style=\"fill:#1f77b4;stroke:#1f77b4;\" x=\"144.162825\" xlink:href=\"#mce99937bea\" y=\"88.810058\"/>\n     <use style=\"fill:#1f77b4;stroke:#1f77b4;\" x=\"178.94724\" xlink:href=\"#mce99937bea\" y=\"183.269787\"/>\n     <use style=\"fill:#1f77b4;stroke:#1f77b4;\" x=\"70.245942\" xlink:href=\"#mce99937bea\" y=\"94.05782\"/>\n     <use style=\"fill:#1f77b4;stroke:#1f77b4;\" x=\"139.814773\" xlink:href=\"#mce99937bea\" y=\"151.783211\"/>\n     <use style=\"fill:#1f77b4;stroke:#1f77b4;\" x=\"61.549838\" xlink:href=\"#mce99937bea\" y=\"17.083636\"/>\n     <use style=\"fill:#1f77b4;stroke:#1f77b4;\" x=\"74.593994\" xlink:href=\"#mce99937bea\" y=\"140.762909\"/>\n     <use style=\"fill:#1f77b4;stroke:#1f77b4;\" x=\"74.593994\" xlink:href=\"#mce99937bea\" y=\"143.029942\"/>\n     <use style=\"fill:#1f77b4;stroke:#1f77b4;\" x=\"196.339448\" xlink:href=\"#mce99937bea\" y=\"146.535448\"/>\n     <use style=\"fill:#1f77b4;stroke:#1f77b4;\" x=\"57.201786\" xlink:href=\"#mce99937bea\" y=\"170.15038\"/>\n     <use style=\"fill:#1f77b4;stroke:#1f77b4;\" x=\"148.510877\" xlink:href=\"#mce99937bea\" y=\"115.804549\"/>\n     <use style=\"fill:#1f77b4;stroke:#1f77b4;\" x=\"196.339448\" xlink:href=\"#mce99937bea\" y=\"178.022024\"/>\n     <use style=\"fill:#1f77b4;stroke:#1f77b4;\" x=\"52.853734\" xlink:href=\"#mce99937bea\" y=\"36.33243\"/>\n     <use style=\"fill:#1f77b4;stroke:#1f77b4;\" x=\"48.505682\" xlink:href=\"#mce99937bea\" y=\"166.476946\"/>\n     <use style=\"fill:#1f77b4;stroke:#1f77b4;\" x=\"144.162825\" xlink:href=\"#mce99937bea\" y=\"120.296634\"/>\n     <use style=\"fill:#1f77b4;stroke:#1f77b4;\" x=\"65.89789\" xlink:href=\"#mce99937bea\" y=\"173.823814\"/>\n    </g>\n   </g>\n   <g id=\"matplotlib.axis_1\">\n    <g id=\"xtick_1\">\n     <g id=\"line2d_1\">\n      <defs>\n       <path d=\"M 0 0 \nL 0 3.5 \n\" id=\"md5207695f6\" style=\"stroke:#000000;stroke-width:0.8;\"/>\n      </defs>\n      <g>\n       <use style=\"stroke:#000000;stroke-width:0.8;\" x=\"39.809578\" xlink:href=\"#md5207695f6\" y=\"224.64\"/>\n      </g>\n     </g>\n     <g id=\"text_1\">\n      <!-- 0.0 -->\n      <defs>\n       <path d=\"M 31.78125 66.40625 \nQ 24.171875 66.40625 20.328125 58.90625 \nQ 16.5 51.421875 16.5 36.375 \nQ 16.5 21.390625 20.328125 13.890625 \nQ 24.171875 6.390625 31.78125 6.390625 \nQ 39.453125 6.390625 43.28125 13.890625 \nQ 47.125 21.390625 47.125 36.375 \nQ 47.125 51.421875 43.28125 58.90625 \nQ 39.453125 66.40625 31.78125 66.40625 \nz\nM 31.78125 74.21875 \nQ 44.046875 74.21875 50.515625 64.515625 \nQ 56.984375 54.828125 56.984375 36.375 \nQ 56.984375 17.96875 50.515625 8.265625 \nQ 44.046875 -1.421875 31.78125 -1.421875 \nQ 19.53125 -1.421875 13.0625 8.265625 \nQ 6.59375 17.96875 6.59375 36.375 \nQ 6.59375 54.828125 13.0625 64.515625 \nQ 19.53125 74.21875 31.78125 74.21875 \nz\n\" id=\"DejaVuSans-48\"/>\n       <path d=\"M 10.6875 12.40625 \nL 21 12.40625 \nL 21 0 \nL 10.6875 0 \nz\n\" id=\"DejaVuSans-46\"/>\n      </defs>\n      <g transform=\"translate(31.858015 239.238437)scale(0.1 -0.1)\">\n       <use xlink:href=\"#DejaVuSans-48\"/>\n       <use x=\"63.623047\" xlink:href=\"#DejaVuSans-46\"/>\n       <use x=\"95.410156\" xlink:href=\"#DejaVuSans-48\"/>\n      </g>\n     </g>\n    </g>\n    <g id=\"xtick_2\">\n     <g id=\"line2d_2\">\n      <g>\n       <use style=\"stroke:#000000;stroke-width:0.8;\" x=\"83.290097\" xlink:href=\"#md5207695f6\" y=\"224.64\"/>\n      </g>\n     </g>\n     <g id=\"text_2\">\n      <!-- 0.1 -->\n      <defs>\n       <path d=\"M 12.40625 8.296875 \nL 28.515625 8.296875 \nL 28.515625 63.921875 \nL 10.984375 60.40625 \nL 10.984375 69.390625 \nL 28.421875 72.90625 \nL 38.28125 72.90625 \nL 38.28125 8.296875 \nL 54.390625 8.296875 \nL 54.390625 0 \nL 12.40625 0 \nz\n\" id=\"DejaVuSans-49\"/>\n      </defs>\n      <g transform=\"translate(75.338535 239.238437)scale(0.1 -0.1)\">\n       <use xlink:href=\"#DejaVuSans-48\"/>\n       <use x=\"63.623047\" xlink:href=\"#DejaVuSans-46\"/>\n       <use x=\"95.410156\" xlink:href=\"#DejaVuSans-49\"/>\n      </g>\n     </g>\n    </g>\n    <g id=\"xtick_3\">\n     <g id=\"line2d_3\">\n      <g>\n       <use style=\"stroke:#000000;stroke-width:0.8;\" x=\"126.770617\" xlink:href=\"#md5207695f6\" y=\"224.64\"/>\n      </g>\n     </g>\n     <g id=\"text_3\">\n      <!-- 0.2 -->\n      <defs>\n       <path d=\"M 19.1875 8.296875 \nL 53.609375 8.296875 \nL 53.609375 0 \nL 7.328125 0 \nL 7.328125 8.296875 \nQ 12.9375 14.109375 22.625 23.890625 \nQ 32.328125 33.6875 34.8125 36.53125 \nQ 39.546875 41.84375 41.421875 45.53125 \nQ 43.3125 49.21875 43.3125 52.78125 \nQ 43.3125 58.59375 39.234375 62.25 \nQ 35.15625 65.921875 28.609375 65.921875 \nQ 23.96875 65.921875 18.8125 64.3125 \nQ 13.671875 62.703125 7.8125 59.421875 \nL 7.8125 69.390625 \nQ 13.765625 71.78125 18.9375 73 \nQ 24.125 74.21875 28.421875 74.21875 \nQ 39.75 74.21875 46.484375 68.546875 \nQ 53.21875 62.890625 53.21875 53.421875 \nQ 53.21875 48.921875 51.53125 44.890625 \nQ 49.859375 40.875 45.40625 35.40625 \nQ 44.1875 33.984375 37.640625 27.21875 \nQ 31.109375 20.453125 19.1875 8.296875 \nz\n\" id=\"DejaVuSans-50\"/>\n      </defs>\n      <g transform=\"translate(118.819054 239.238437)scale(0.1 -0.1)\">\n       <use xlink:href=\"#DejaVuSans-48\"/>\n       <use x=\"63.623047\" xlink:href=\"#DejaVuSans-46\"/>\n       <use x=\"95.410156\" xlink:href=\"#DejaVuSans-50\"/>\n      </g>\n     </g>\n    </g>\n    <g id=\"xtick_4\">\n     <g id=\"line2d_4\">\n      <g>\n       <use style=\"stroke:#000000;stroke-width:0.8;\" x=\"170.251136\" xlink:href=\"#md5207695f6\" y=\"224.64\"/>\n      </g>\n     </g>\n     <g id=\"text_4\">\n      <!-- 0.3 -->\n      <defs>\n       <path d=\"M 40.578125 39.3125 \nQ 47.65625 37.796875 51.625 33 \nQ 55.609375 28.21875 55.609375 21.1875 \nQ 55.609375 10.40625 48.1875 4.484375 \nQ 40.765625 -1.421875 27.09375 -1.421875 \nQ 22.515625 -1.421875 17.65625 -0.515625 \nQ 12.796875 0.390625 7.625 2.203125 \nL 7.625 11.71875 \nQ 11.71875 9.328125 16.59375 8.109375 \nQ 21.484375 6.890625 26.8125 6.890625 \nQ 36.078125 6.890625 40.9375 10.546875 \nQ 45.796875 14.203125 45.796875 21.1875 \nQ 45.796875 27.640625 41.28125 31.265625 \nQ 36.765625 34.90625 28.71875 34.90625 \nL 20.21875 34.90625 \nL 20.21875 43.015625 \nL 29.109375 43.015625 \nQ 36.375 43.015625 40.234375 45.921875 \nQ 44.09375 48.828125 44.09375 54.296875 \nQ 44.09375 59.90625 40.109375 62.90625 \nQ 36.140625 65.921875 28.71875 65.921875 \nQ 24.65625 65.921875 20.015625 65.03125 \nQ 15.375 64.15625 9.8125 62.3125 \nL 9.8125 71.09375 \nQ 15.4375 72.65625 20.34375 73.4375 \nQ 25.25 74.21875 29.59375 74.21875 \nQ 40.828125 74.21875 47.359375 69.109375 \nQ 53.90625 64.015625 53.90625 55.328125 \nQ 53.90625 49.265625 50.4375 45.09375 \nQ 46.96875 40.921875 40.578125 39.3125 \nz\n\" id=\"DejaVuSans-51\"/>\n      </defs>\n      <g transform=\"translate(162.299574 239.238437)scale(0.1 -0.1)\">\n       <use xlink:href=\"#DejaVuSans-48\"/>\n       <use x=\"63.623047\" xlink:href=\"#DejaVuSans-46\"/>\n       <use x=\"95.410156\" xlink:href=\"#DejaVuSans-51\"/>\n      </g>\n     </g>\n    </g>\n    <g id=\"xtick_5\">\n     <g id=\"line2d_5\">\n      <g>\n       <use style=\"stroke:#000000;stroke-width:0.8;\" x=\"213.731656\" xlink:href=\"#md5207695f6\" y=\"224.64\"/>\n      </g>\n     </g>\n     <g id=\"text_5\">\n      <!-- 0.4 -->\n      <defs>\n       <path d=\"M 37.796875 64.3125 \nL 12.890625 25.390625 \nL 37.796875 25.390625 \nz\nM 35.203125 72.90625 \nL 47.609375 72.90625 \nL 47.609375 25.390625 \nL 58.015625 25.390625 \nL 58.015625 17.1875 \nL 47.609375 17.1875 \nL 47.609375 0 \nL 37.796875 0 \nL 37.796875 17.1875 \nL 4.890625 17.1875 \nL 4.890625 26.703125 \nz\n\" id=\"DejaVuSans-52\"/>\n      </defs>\n      <g transform=\"translate(205.780093 239.238437)scale(0.1 -0.1)\">\n       <use xlink:href=\"#DejaVuSans-48\"/>\n       <use x=\"63.623047\" xlink:href=\"#DejaVuSans-46\"/>\n       <use x=\"95.410156\" xlink:href=\"#DejaVuSans-52\"/>\n      </g>\n     </g>\n    </g>\n    <g id=\"xtick_6\">\n     <g id=\"line2d_6\">\n      <g>\n       <use style=\"stroke:#000000;stroke-width:0.8;\" x=\"257.212175\" xlink:href=\"#md5207695f6\" y=\"224.64\"/>\n      </g>\n     </g>\n     <g id=\"text_6\">\n      <!-- 0.5 -->\n      <defs>\n       <path d=\"M 10.796875 72.90625 \nL 49.515625 72.90625 \nL 49.515625 64.59375 \nL 19.828125 64.59375 \nL 19.828125 46.734375 \nQ 21.96875 47.46875 24.109375 47.828125 \nQ 26.265625 48.1875 28.421875 48.1875 \nQ 40.625 48.1875 47.75 41.5 \nQ 54.890625 34.8125 54.890625 23.390625 \nQ 54.890625 11.625 47.5625 5.09375 \nQ 40.234375 -1.421875 26.90625 -1.421875 \nQ 22.3125 -1.421875 17.546875 -0.640625 \nQ 12.796875 0.140625 7.71875 1.703125 \nL 7.71875 11.625 \nQ 12.109375 9.234375 16.796875 8.0625 \nQ 21.484375 6.890625 26.703125 6.890625 \nQ 35.15625 6.890625 40.078125 11.328125 \nQ 45.015625 15.765625 45.015625 23.390625 \nQ 45.015625 31 40.078125 35.4375 \nQ 35.15625 39.890625 26.703125 39.890625 \nQ 22.75 39.890625 18.8125 39.015625 \nQ 14.890625 38.140625 10.796875 36.28125 \nz\n\" id=\"DejaVuSans-53\"/>\n      </defs>\n      <g transform=\"translate(249.260613 239.238437)scale(0.1 -0.1)\">\n       <use xlink:href=\"#DejaVuSans-48\"/>\n       <use x=\"63.623047\" xlink:href=\"#DejaVuSans-46\"/>\n       <use x=\"95.410156\" xlink:href=\"#DejaVuSans-53\"/>\n      </g>\n     </g>\n    </g>\n    <g id=\"xtick_7\">\n     <g id=\"line2d_7\">\n      <g>\n       <use style=\"stroke:#000000;stroke-width:0.8;\" x=\"300.692695\" xlink:href=\"#md5207695f6\" y=\"224.64\"/>\n      </g>\n     </g>\n     <g id=\"text_7\">\n      <!-- 0.6 -->\n      <defs>\n       <path d=\"M 33.015625 40.375 \nQ 26.375 40.375 22.484375 35.828125 \nQ 18.609375 31.296875 18.609375 23.390625 \nQ 18.609375 15.53125 22.484375 10.953125 \nQ 26.375 6.390625 33.015625 6.390625 \nQ 39.65625 6.390625 43.53125 10.953125 \nQ 47.40625 15.53125 47.40625 23.390625 \nQ 47.40625 31.296875 43.53125 35.828125 \nQ 39.65625 40.375 33.015625 40.375 \nz\nM 52.59375 71.296875 \nL 52.59375 62.3125 \nQ 48.875 64.0625 45.09375 64.984375 \nQ 41.3125 65.921875 37.59375 65.921875 \nQ 27.828125 65.921875 22.671875 59.328125 \nQ 17.53125 52.734375 16.796875 39.40625 \nQ 19.671875 43.65625 24.015625 45.921875 \nQ 28.375 48.1875 33.59375 48.1875 \nQ 44.578125 48.1875 50.953125 41.515625 \nQ 57.328125 34.859375 57.328125 23.390625 \nQ 57.328125 12.15625 50.6875 5.359375 \nQ 44.046875 -1.421875 33.015625 -1.421875 \nQ 20.359375 -1.421875 13.671875 8.265625 \nQ 6.984375 17.96875 6.984375 36.375 \nQ 6.984375 53.65625 15.1875 63.9375 \nQ 23.390625 74.21875 37.203125 74.21875 \nQ 40.921875 74.21875 44.703125 73.484375 \nQ 48.484375 72.75 52.59375 71.296875 \nz\n\" id=\"DejaVuSans-54\"/>\n      </defs>\n      <g transform=\"translate(292.741132 239.238437)scale(0.1 -0.1)\">\n       <use xlink:href=\"#DejaVuSans-48\"/>\n       <use x=\"63.623047\" xlink:href=\"#DejaVuSans-46\"/>\n       <use x=\"95.410156\" xlink:href=\"#DejaVuSans-54\"/>\n      </g>\n     </g>\n    </g>\n    <g id=\"xtick_8\">\n     <g id=\"line2d_8\">\n      <g>\n       <use style=\"stroke:#000000;stroke-width:0.8;\" x=\"344.173214\" xlink:href=\"#md5207695f6\" y=\"224.64\"/>\n      </g>\n     </g>\n     <g id=\"text_8\">\n      <!-- 0.7 -->\n      <defs>\n       <path d=\"M 8.203125 72.90625 \nL 55.078125 72.90625 \nL 55.078125 68.703125 \nL 28.609375 0 \nL 18.3125 0 \nL 43.21875 64.59375 \nL 8.203125 64.59375 \nz\n\" id=\"DejaVuSans-55\"/>\n      </defs>\n      <g transform=\"translate(336.221652 239.238437)scale(0.1 -0.1)\">\n       <use xlink:href=\"#DejaVuSans-48\"/>\n       <use x=\"63.623047\" xlink:href=\"#DejaVuSans-46\"/>\n       <use x=\"95.410156\" xlink:href=\"#DejaVuSans-55\"/>\n      </g>\n     </g>\n    </g>\n   </g>\n   <g id=\"matplotlib.axis_2\">\n    <g id=\"ytick_1\">\n     <g id=\"line2d_9\">\n      <defs>\n       <path d=\"M 0 0 \nL -3.5 0 \n\" id=\"m9753cc8a16\" style=\"stroke:#000000;stroke-width:0.8;\"/>\n      </defs>\n      <g>\n       <use style=\"stroke:#000000;stroke-width:0.8;\" x=\"33.2875\" xlink:href=\"#m9753cc8a16\" y=\"183.269787\"/>\n      </g>\n     </g>\n     <g id=\"text_9\">\n      <!-- 20 -->\n      <g transform=\"translate(13.5625 187.069006)scale(0.1 -0.1)\">\n       <use xlink:href=\"#DejaVuSans-50\"/>\n       <use x=\"63.623047\" xlink:href=\"#DejaVuSans-48\"/>\n      </g>\n     </g>\n    </g>\n    <g id=\"ytick_2\">\n     <g id=\"line2d_10\">\n      <g>\n       <use style=\"stroke:#000000;stroke-width:0.8;\" x=\"33.2875\" xlink:href=\"#m9753cc8a16\" y=\"141.287685\"/>\n      </g>\n     </g>\n     <g id=\"text_10\">\n      <!-- 40 -->\n      <g transform=\"translate(13.5625 145.086904)scale(0.1 -0.1)\">\n       <use xlink:href=\"#DejaVuSans-52\"/>\n       <use x=\"63.623047\" xlink:href=\"#DejaVuSans-48\"/>\n      </g>\n     </g>\n    </g>\n    <g id=\"ytick_3\">\n     <g id=\"line2d_11\">\n      <g>\n       <use style=\"stroke:#000000;stroke-width:0.8;\" x=\"33.2875\" xlink:href=\"#m9753cc8a16\" y=\"99.305583\"/>\n      </g>\n     </g>\n     <g id=\"text_11\">\n      <!-- 60 -->\n      <g transform=\"translate(13.5625 103.104802)scale(0.1 -0.1)\">\n       <use xlink:href=\"#DejaVuSans-54\"/>\n       <use x=\"63.623047\" xlink:href=\"#DejaVuSans-48\"/>\n      </g>\n     </g>\n    </g>\n    <g id=\"ytick_4\">\n     <g id=\"line2d_12\">\n      <g>\n       <use style=\"stroke:#000000;stroke-width:0.8;\" x=\"33.2875\" xlink:href=\"#m9753cc8a16\" y=\"57.323481\"/>\n      </g>\n     </g>\n     <g id=\"text_12\">\n      <!-- 80 -->\n      <defs>\n       <path d=\"M 31.78125 34.625 \nQ 24.75 34.625 20.71875 30.859375 \nQ 16.703125 27.09375 16.703125 20.515625 \nQ 16.703125 13.921875 20.71875 10.15625 \nQ 24.75 6.390625 31.78125 6.390625 \nQ 38.8125 6.390625 42.859375 10.171875 \nQ 46.921875 13.96875 46.921875 20.515625 \nQ 46.921875 27.09375 42.890625 30.859375 \nQ 38.875 34.625 31.78125 34.625 \nz\nM 21.921875 38.8125 \nQ 15.578125 40.375 12.03125 44.71875 \nQ 8.5 49.078125 8.5 55.328125 \nQ 8.5 64.0625 14.71875 69.140625 \nQ 20.953125 74.21875 31.78125 74.21875 \nQ 42.671875 74.21875 48.875 69.140625 \nQ 55.078125 64.0625 55.078125 55.328125 \nQ 55.078125 49.078125 51.53125 44.71875 \nQ 48 40.375 41.703125 38.8125 \nQ 48.828125 37.15625 52.796875 32.3125 \nQ 56.78125 27.484375 56.78125 20.515625 \nQ 56.78125 9.90625 50.3125 4.234375 \nQ 43.84375 -1.421875 31.78125 -1.421875 \nQ 19.734375 -1.421875 13.25 4.234375 \nQ 6.78125 9.90625 6.78125 20.515625 \nQ 6.78125 27.484375 10.78125 32.3125 \nQ 14.796875 37.15625 21.921875 38.8125 \nz\nM 18.3125 54.390625 \nQ 18.3125 48.734375 21.84375 45.5625 \nQ 25.390625 42.390625 31.78125 42.390625 \nQ 38.140625 42.390625 41.71875 45.5625 \nQ 45.3125 48.734375 45.3125 54.390625 \nQ 45.3125 60.0625 41.71875 63.234375 \nQ 38.140625 66.40625 31.78125 66.40625 \nQ 25.390625 66.40625 21.84375 63.234375 \nQ 18.3125 60.0625 18.3125 54.390625 \nz\n\" id=\"DejaVuSans-56\"/>\n      </defs>\n      <g transform=\"translate(13.5625 61.1227)scale(0.1 -0.1)\">\n       <use xlink:href=\"#DejaVuSans-56\"/>\n       <use x=\"63.623047\" xlink:href=\"#DejaVuSans-48\"/>\n      </g>\n     </g>\n    </g>\n    <g id=\"ytick_5\">\n     <g id=\"line2d_13\">\n      <g>\n       <use style=\"stroke:#000000;stroke-width:0.8;\" x=\"33.2875\" xlink:href=\"#m9753cc8a16\" y=\"15.341379\"/>\n      </g>\n     </g>\n     <g id=\"text_13\">\n      <!-- 100 -->\n      <g transform=\"translate(7.2 19.140598)scale(0.1 -0.1)\">\n       <use xlink:href=\"#DejaVuSans-49\"/>\n       <use x=\"63.623047\" xlink:href=\"#DejaVuSans-48\"/>\n       <use x=\"127.246094\" xlink:href=\"#DejaVuSans-48\"/>\n      </g>\n     </g>\n    </g>\n   </g>\n   <g id=\"patch_3\">\n    <path d=\"M 33.2875 224.64 \nL 33.2875 7.2 \n\" style=\"fill:none;stroke:#000000;stroke-linecap:square;stroke-linejoin:miter;stroke-width:0.8;\"/>\n   </g>\n   <g id=\"patch_4\">\n    <path d=\"M 368.0875 224.64 \nL 368.0875 7.2 \n\" style=\"fill:none;stroke:#000000;stroke-linecap:square;stroke-linejoin:miter;stroke-width:0.8;\"/>\n   </g>\n   <g id=\"patch_5\">\n    <path d=\"M 33.2875 224.64 \nL 368.0875 224.64 \n\" style=\"fill:none;stroke:#000000;stroke-linecap:square;stroke-linejoin:miter;stroke-width:0.8;\"/>\n   </g>\n   <g id=\"patch_6\">\n    <path d=\"M 33.2875 7.2 \nL 368.0875 7.2 \n\" style=\"fill:none;stroke:#000000;stroke-linecap:square;stroke-linejoin:miter;stroke-width:0.8;\"/>\n   </g>\n  </g>\n </g>\n <defs>\n  <clipPath id=\"p9140c60c3e\">\n   <rect height=\"217.44\" width=\"334.8\" x=\"33.2875\" y=\"7.2\"/>\n  </clipPath>\n </defs>\n</svg>\n",
      "image/png": "[encoded data removed]"
     },
     "metadata": {}
    }
   ],
   "source": [
    "fig = plt.figure()\n",
    "fig.patch.set_facecolor('white')\n",
    "\n",
    "plt.scatter(d[2,:], d[-1,:])\n",
    "plt.show()"
   ]
  },
  {
   "cell_type": "code",
   "execution_count": 19,
   "metadata": {},
   "outputs": [],
   "source": [
    "df_std = standardize_data(df)"
   ]
  },
  {
   "cell_type": "code",
   "execution_count": 20,
   "metadata": {},
   "outputs": [],
   "source": [
    "X =  df_std[['rent_arable_acre', 'cows_mile^2', 'diff_pasture_arable']]\n",
    "y = df_std['rent_grassy_acre']"
   ]
  },
  {
   "cell_type": "code",
   "execution_count": 30,
   "metadata": {},
   "outputs": [],
   "source": [
    "X_train, y_train, X_test, y_test = train_test_split(X, y)"
   ]
  },
  {
   "cell_type": "markdown",
   "metadata": {},
   "source": [
    "## Arrays"
   ]
  },
  {
   "cell_type": "code",
   "execution_count": 18,
   "metadata": {},
   "outputs": [],
   "source": [
    "def rmse(y, y_pred):\n",
    "    return math.sqrt(np.sum(np.abs(y_pred - y)**2)/y.size)"
   ]
  },
  {
   "cell_type": "code",
   "execution_count": 35,
   "metadata": {},
   "outputs": [
    {
     "output_type": "execute_result",
     "data": {
      "text/plain": "array([[18.38],\n       [20.  ],\n       [11.5 ],\n       [25.  ],\n       [62.5 ],\n       [82.5 ],\n       [25.  ],\n       [30.67],\n       [12.  ],\n       [61.25]])"
     },
     "metadata": {},
     "execution_count": 35
    }
   ],
   "source": [
    "y = d[-1].reshape(67,-1)\n",
    "y[:10,:]"
   ]
  },
  {
   "cell_type": "code",
   "execution_count": 38,
   "metadata": {},
   "outputs": [
    {
     "output_type": "execute_result",
     "data": {
      "text/plain": "array([[1.550e+01, 1.725e+01, 2.400e-01, 1.000e+00],\n       [2.229e+01, 1.851e+01, 2.000e-01, 1.000e+00],\n       [1.236e+01, 1.113e+01, 1.200e-01, 1.000e+00],\n       [3.184e+01, 5.540e+00, 1.200e-01, 1.000e+00],\n       [8.390e+01, 5.440e+00, 4.000e-02, 1.000e+00],\n       [7.225e+01, 2.037e+01, 5.000e-02, 1.000e+00],\n       [2.714e+01, 3.120e+01, 2.700e-01, 1.000e+00],\n       [4.041e+01, 4.290e+00, 1.000e-01, 1.000e+00],\n       [1.242e+01, 8.690e+00, 4.100e-01, 1.000e+00],\n       [6.942e+01, 6.630e+00, 4.000e-02, 1.000e+00]])"
     },
     "metadata": {},
     "execution_count": 38
    }
   ],
   "source": [
    "x = np.vstack((d[:-1], np.ones(n_rows))).T\n",
    "x[:10,:]"
   ]
  },
  {
   "cell_type": "code",
   "execution_count": 39,
   "metadata": {},
   "outputs": [],
   "source": [
    "x_train = x[:50]\n",
    "x_test = x[50:]\n",
    "y_train = y[:50]\n",
    "y_test = y[50:]"
   ]
  },
  {
   "cell_type": "markdown",
   "metadata": {},
   "source": [
    "## Normal Equation"
   ]
  },
  {
   "cell_type": "markdown",
   "metadata": {},
   "source": [
    "We define a cost function, which will be in this case the sum of squared errors\n",
    "\n",
    ">$J(w) = \\sum (X w - y)^2$\n",
    "\n",
    "Taking its derivative and making it equal to zero, we find values for the weights which minimize the cost function\n",
    "\n",
    "> $X^T X w = X^T y$\n",
    "\n",
    "can be solved for $w$ as\n",
    "\n",
    "> $w = (X^T X)^{-1} X^T y$"
   ]
  },
  {
   "cell_type": "code",
   "execution_count": 41,
   "metadata": {},
   "outputs": [],
   "source": [
    "def weights(x, y):\n",
    "    return np.dot(np.dot(inv(np.dot(x.T, x)),x.T),y)"
   ]
  },
  {
   "cell_type": "code",
   "execution_count": 42,
   "metadata": {},
   "outputs": [
    {
     "output_type": "execute_result",
     "data": {
      "text/plain": "array([[  0.84562649],\n       [  0.54721814],\n       [-19.7026391 ],\n       [ -2.03202577]])"
     },
     "metadata": {},
     "execution_count": 42
    }
   ],
   "source": [
    "w = weights(x_train, y_train)\n",
    "w"
   ]
  },
  {
   "cell_type": "code",
   "execution_count": 43,
   "metadata": {},
   "outputs": [
    {
     "output_type": "execute_result",
     "data": {
      "text/plain": "10.863378363411924"
     },
     "metadata": {},
     "execution_count": 43
    }
   ],
   "source": [
    "rmse(y_test,np.dot(x_test,w))"
   ]
  },
  {
   "cell_type": "markdown",
   "metadata": {},
   "source": [
    "## Gradient Descent"
   ]
  },
  {
   "cell_type": "markdown",
   "metadata": {},
   "source": [
    "When the number of data points is too large, solving the normal equation might not be practical. We then perform simpler calculations to minimize the cost function step by step, updating the weights as we do it.\n",
    "\n",
    "> $w = w + \\alpha \\nabla J(w)$\n",
    "\n",
    "which is implemented in code as\n",
    "\n",
    "> $w = w - \\frac{\\alpha}{m} X^T (Xw - y)$\n",
    "\n",
    "where $\\alpha$ is the learning rate, and $m$ is the number of examples in $X$"
   ]
  },
  {
   "cell_type": "code",
   "execution_count": 44,
   "metadata": {},
   "outputs": [],
   "source": [
    "def normalized(a, axis=-1, order=2):\n",
    "    l2 = np.atleast_1d(np.linalg.norm(a, order, axis))\n",
    "    l2[l2==0] = 1\n",
    "    return a / np.expand_dims(l2, axis)"
   ]
  },
  {
   "cell_type": "code",
   "execution_count": 45,
   "metadata": {},
   "outputs": [
    {
     "output_type": "execute_result",
     "data": {
      "text/plain": "array([[0.03895235, 0.08237303, 0.13196578, 1.        ],\n       [0.05601599, 0.08838984, 0.10997148, 1.        ],\n       [0.03106136, 0.05314851, 0.06598289, 1.        ],\n       [0.08001567, 0.02645488, 0.06598289, 1.        ],\n       [0.21084531, 0.02597735, 0.0219943 , 1.        ],\n       [0.18156822, 0.09727181, 0.02749287, 1.        ],\n       [0.06820431, 0.14898774, 0.1484615 , 1.        ],\n       [0.10155255, 0.02048581, 0.05498574, 1.        ],\n       [0.03121214, 0.04149691, 0.22544153, 1.        ],\n       [0.17445627, 0.0316599 , 0.0219943 , 1.        ]])"
     },
     "metadata": {},
     "execution_count": 45
    }
   ],
   "source": [
    "x_norm = np.vstack((normalized(d[:-1],1), np.ones(n_rows))).T\n",
    "x_norm[:10,:]"
   ]
  },
  {
   "cell_type": "code",
   "execution_count": 46,
   "metadata": {},
   "outputs": [
    {
     "output_type": "execute_result",
     "data": {
      "text/plain": "array([[1.],\n       [1.],\n       [1.],\n       [1.]])"
     },
     "metadata": {},
     "execution_count": 46
    }
   ],
   "source": [
    "alpha = 0.5\n",
    "#w = np.random.rand(x.shape[1],1)\n",
    "w = np.ones(x.shape[1]).reshape(-1,1)\n",
    "#w = np.array([[0.84562649],[0.54721814],[-19.7026391 ],[-2.03202577]])\n",
    "w"
   ]
  },
  {
   "cell_type": "code",
   "execution_count": 47,
   "metadata": {},
   "outputs": [],
   "source": [
    "x_train = x_norm[:50]\n",
    "x_test = x_norm[50:]\n",
    "y_train = y[:50]\n",
    "y_test = y[50:]\n",
    "\n",
    "m = x_train.shape[0]"
   ]
  },
  {
   "cell_type": "code",
   "execution_count": 48,
   "metadata": {},
   "outputs": [
    {
     "output_type": "stream",
     "name": "stdout",
     "text": "Stopped at iteration 48796\n"
    },
    {
     "output_type": "execute_result",
     "data": {
      "text/plain": "array([[336.49343619],\n       [114.59470086],\n       [-35.83227056],\n       [ -2.03202577]])"
     },
     "metadata": {},
     "execution_count": 48
    }
   ],
   "source": [
    "rmse_new = np.inf\n",
    "for i in range(100000):\n",
    "    w = w - (alpha/m)*np.dot(x_train.T, np.dot(x_train, w)-y_train)\n",
    "    rmse_old = rmse_new\n",
    "    rmse_new = rmse(y_test,np.dot(x_test,w))\n",
    "    if (rmse_new > rmse_old):\n",
    "        print(\"Stopped at iteration {}\".format(i))\n",
    "        break\n",
    "w"
   ]
  },
  {
   "cell_type": "code",
   "execution_count": 49,
   "metadata": {},
   "outputs": [
    {
     "output_type": "execute_result",
     "data": {
      "text/plain": "10.86337836342186"
     },
     "metadata": {},
     "execution_count": 49
    }
   ],
   "source": [
    "rmse(y_test,np.dot(x_test,w))"
   ]
  },
  {
   "cell_type": "code",
   "execution_count": null,
   "metadata": {},
   "outputs": [],
   "source": []
  }
 ],
 "metadata": {
  "kernelspec": {
   "display_name": "Python 3.7.3 64-bit ('env': venv)",
   "language": "python",
   "name": "python37364bitenvvenvb0e91db3714c436c940e34a6352a305e"
  },
  "language_info": {
   "codemirror_mode": {
    "name": "ipython",
    "version": 3
   },
   "file_extension": ".py",
   "mimetype": "text/x-python",
   "name": "python",
   "nbconvert_exporter": "python",
   "pygments_lexer": "ipython3",
   "version": "3.7.3-final"
  }
 },
 "nbformat": 4,
 "nbformat_minor": 4
}