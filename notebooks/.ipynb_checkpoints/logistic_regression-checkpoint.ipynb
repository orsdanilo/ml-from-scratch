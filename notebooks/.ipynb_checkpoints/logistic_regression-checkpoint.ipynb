{
 "cells": [
  {
   "cell_type": "markdown",
   "metadata": {},
   "source": [
    "# Logistic Regression"
   ]
  },
  {
   "cell_type": "code",
   "execution_count": null,
   "metadata": {},
   "outputs": [],
   "source": []
  },
  {
   "cell_type": "code",
   "execution_count": 48,
   "metadata": {},
   "outputs": [],
   "source": [
    "%matplotlib inline\n",
    "\n",
    "import numpy as np\n",
    "import os\n",
    "import string\n",
    "import re\n",
    "import matplotlib.pyplot as plt\n",
    "from numpy.linalg import inv"
   ]
  },
  {
   "cell_type": "code",
   "execution_count": 49,
   "metadata": {},
   "outputs": [],
   "source": [
    "base_path = \"/home/orsdanilo/Documents/ml_from_scratch/\"\n",
    "raw_fname = \"data/raw/copen.dat\"\n",
    "proc_fname = \"data/processed/copen.raw\"\n",
    "path_to_raw = os.path.join(base_path, raw_fname)\n",
    "path_to_proc = os.path.join(base_path, proc_fname)"
   ]
  },
  {
   "cell_type": "code",
   "execution_count": 50,
   "metadata": {},
   "outputs": [],
   "source": [
    "n_rows = 72\n",
    "n_cols = 6"
   ]
  },
  {
   "cell_type": "code",
   "execution_count": 51,
   "metadata": {},
   "outputs": [
    {
     "data": {
      "text/plain": [
       "array([[ 1.,  1.,  1.,  1., 21.],\n",
       "       [ 1.,  1.,  1.,  2., 21.],\n",
       "       [ 1.,  1.,  1.,  3., 28.],\n",
       "       [ 1.,  1.,  2.,  1., 14.],\n",
       "       [ 1.,  1.,  2.,  2., 19.],\n",
       "       [ 1.,  1.,  2.,  3., 37.],\n",
       "       [ 1.,  2.,  1.,  1., 34.],\n",
       "       [ 1.,  2.,  1.,  2., 22.],\n",
       "       [ 1.,  2.,  1.,  3., 36.],\n",
       "       [ 1.,  2.,  2.,  1., 17.]])"
      ]
     },
     "execution_count": 51,
     "metadata": {},
     "output_type": "execute_result"
    }
   ],
   "source": [
    "data = np.loadtxt(path_to_proc, usecols=list(range(1, n_cols)), unpack=False)\n",
    "data[:10,:]"
   ]
  },
  {
   "cell_type": "code",
   "execution_count": 54,
   "metadata": {},
   "outputs": [
    {
     "data": {
      "text/plain": [
       "array([[0],\n",
       "       [0],\n",
       "       [0],\n",
       "       [1],\n",
       "       [1],\n",
       "       [1],\n",
       "       [0],\n",
       "       [0],\n",
       "       [0],\n",
       "       [1]])"
      ]
     },
     "execution_count": 54,
     "metadata": {},
     "output_type": "execute_result"
    }
   ],
   "source": [
    "y = d[:,2].reshape(-1,1)\n",
    "y = np.where(y==1, 0, 1)\n",
    "y[:10,:]"
   ]
  },
  {
   "cell_type": "code",
   "execution_count": 55,
   "metadata": {},
   "outputs": [
    {
     "data": {
      "text/plain": [
       "array([[ 1.,  1.,  1., 21.],\n",
       "       [ 1.,  1.,  2., 21.],\n",
       "       [ 1.,  1.,  3., 28.],\n",
       "       [ 1.,  1.,  1., 14.],\n",
       "       [ 1.,  1.,  2., 19.],\n",
       "       [ 1.,  1.,  3., 37.],\n",
       "       [ 1.,  2.,  1., 34.],\n",
       "       [ 1.,  2.,  2., 22.],\n",
       "       [ 1.,  2.,  3., 36.],\n",
       "       [ 1.,  2.,  1., 17.]])"
      ]
     },
     "execution_count": 55,
     "metadata": {},
     "output_type": "execute_result"
    }
   ],
   "source": [
    "x = np.delete(d, 2, axis=1)\n",
    "x[:10,:]"
   ]
  },
  {
   "cell_type": "code",
   "execution_count": 56,
   "metadata": {},
   "outputs": [],
   "source": [
    "def normalized(a, axis=-1, order=2):\n",
    "    l2 = np.atleast_1d(np.linalg.norm(a, order, axis))\n",
    "    l2[l2==0] = 1\n",
    "    return a / np.expand_dims(l2, axis)"
   ]
  },
  {
   "cell_type": "code",
   "execution_count": 88,
   "metadata": {},
   "outputs": [
    {
     "data": {
      "text/plain": [
       "array([[1.        , 1.        , 1.        , 0.08474565],\n",
       "       [1.        , 1.        , 2.        , 0.08474565],\n",
       "       [1.        , 1.        , 3.        , 0.1129942 ],\n",
       "       [1.        , 1.        , 1.        , 0.0564971 ],\n",
       "       [1.        , 1.        , 2.        , 0.07667464],\n",
       "       [1.        , 1.        , 3.        , 0.14931377],\n",
       "       [1.        , 2.        , 1.        , 0.13720725],\n",
       "       [1.        , 2.        , 2.        , 0.08878116],\n",
       "       [1.        , 2.        , 3.        , 0.14527826],\n",
       "       [1.        , 2.        , 1.        , 0.06860362]])"
      ]
     },
     "execution_count": 88,
     "metadata": {},
     "output_type": "execute_result"
    }
   ],
   "source": [
    "x[:,-1] = normalized(x[:,-1])\n",
    "x[:10,:]"
   ]
  },
  {
   "cell_type": "code",
   "execution_count": 135,
   "metadata": {},
   "outputs": [
    {
     "data": {
      "text/plain": [
       "array([[1.],\n",
       "       [1.],\n",
       "       [1.],\n",
       "       [1.]])"
      ]
     },
     "execution_count": 135,
     "metadata": {},
     "output_type": "execute_result"
    }
   ],
   "source": [
    "alpha = 0.7\n",
    "#w = np.random.rand(x.shape[1],1)\n",
    "w = np.ones(x.shape[1]).reshape(-1,1)\n",
    "w"
   ]
  },
  {
   "cell_type": "code",
   "execution_count": 136,
   "metadata": {},
   "outputs": [],
   "source": [
    "x_train = x[:50]\n",
    "x_test = x[50:]\n",
    "y_train = y[:50]\n",
    "y_test = y[50:]\n",
    "\n",
    "m = x.shape[0]"
   ]
  },
  {
   "cell_type": "code",
   "execution_count": 91,
   "metadata": {},
   "outputs": [],
   "source": [
    "def sigmoid(x):\n",
    "    return 1/(1+np.exp(-x))"
   ]
  },
  {
   "cell_type": "code",
   "execution_count": 137,
   "metadata": {},
   "outputs": [],
   "source": [
    "for _ in range(8000):\n",
    "    D = y - sigmoid(np.dot(x, w))\n",
    "    w = w + (alpha/m)*np.dot(x.T, D)\n",
    "    \n",
    "    G = sigmoid(np.dot(x, w))\n",
    "    #J = (1/m)*(np.dot(np.log(G).T,y)+np.dot(np.log(np.ones(G.shape)-G).T, np.ones(y.shape)-y))"
   ]
  },
  {
   "cell_type": "code",
   "execution_count": 138,
   "metadata": {},
   "outputs": [
    {
     "data": {
      "text/plain": [
       "array([[-0.31227604],\n",
       "       [-0.29232944],\n",
       "       [-0.54458512],\n",
       "       [ 8.72065326]])"
      ]
     },
     "execution_count": 138,
     "metadata": {},
     "output_type": "execute_result"
    }
   ],
   "source": [
    "w"
   ]
  },
  {
   "cell_type": "code",
   "execution_count": 139,
   "metadata": {},
   "outputs": [
    {
     "data": {
      "text/plain": [
       "array([[0],\n",
       "       [0],\n",
       "       [0],\n",
       "       [0],\n",
       "       [0],\n",
       "       [0],\n",
       "       [0],\n",
       "       [0],\n",
       "       [0],\n",
       "       [0],\n",
       "       [0],\n",
       "       [0],\n",
       "       [0],\n",
       "       [0],\n",
       "       [0],\n",
       "       [0],\n",
       "       [0],\n",
       "       [0],\n",
       "       [0],\n",
       "       [0],\n",
       "       [0],\n",
       "       [0]])"
      ]
     },
     "execution_count": 139,
     "metadata": {},
     "output_type": "execute_result"
    }
   ],
   "source": [
    "G = sigmoid(np.dot(x_test, w))\n",
    "y_pred = np.where(G>0.5, 1, 0)\n",
    "y_pred"
   ]
  },
  {
   "cell_type": "code",
   "execution_count": 140,
   "metadata": {},
   "outputs": [
    {
     "data": {
      "text/plain": [
       "array([[0],\n",
       "       [1],\n",
       "       [1],\n",
       "       [1],\n",
       "       [0],\n",
       "       [0],\n",
       "       [0],\n",
       "       [1],\n",
       "       [1],\n",
       "       [1],\n",
       "       [0],\n",
       "       [0],\n",
       "       [0],\n",
       "       [1],\n",
       "       [1],\n",
       "       [1],\n",
       "       [0],\n",
       "       [0],\n",
       "       [0],\n",
       "       [1],\n",
       "       [1],\n",
       "       [1]])"
      ]
     },
     "execution_count": 140,
     "metadata": {},
     "output_type": "execute_result"
    }
   ],
   "source": [
    "y_test"
   ]
  },
  {
   "cell_type": "code",
   "execution_count": null,
   "metadata": {},
   "outputs": [],
   "source": []
  }
 ],
 "metadata": {
  "kernelspec": {
   "display_name": "Python 3",
   "language": "python",
   "name": "python3"
  },
  "language_info": {
   "codemirror_mode": {
    "name": "ipython",
    "version": 3
   },
   "file_extension": ".py",
   "mimetype": "text/x-python",
   "name": "python",
   "nbconvert_exporter": "python",
   "pygments_lexer": "ipython3",
   "version": "3.6.10"
  }
 },
 "nbformat": 4,
 "nbformat_minor": 4
}
