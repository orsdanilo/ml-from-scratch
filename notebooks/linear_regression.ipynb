{
 "cells": [
  {
   "cell_type": "markdown",
   "metadata": {},
   "source": [
    "# Linear Regression"
   ]
  },
  {
   "cell_type": "markdown",
   "metadata": {},
   "source": [
    "The idea here is to fit the data points to a linear equation\n",
    "\n",
    "> $ŷ = X w$\n",
    "\n",
    "where $ŷ$ is a vector of predictions, $X$ represents the data points, and $w$ is a group of coefficients"
   ]
  },
  {
   "cell_type": "code",
   "execution_count": 326,
   "metadata": {},
   "outputs": [],
   "source": [
    "%matplotlib inline\n",
    "\n",
    "import numpy as np\n",
    "import os\n",
    "import string\n",
    "import re\n",
    "import math\n",
    "import matplotlib.pyplot as plt\n",
    "from numpy.linalg import inv"
   ]
  },
  {
   "cell_type": "markdown",
   "metadata": {},
   "source": [
    "## Data Processing"
   ]
  },
  {
   "cell_type": "code",
   "execution_count": 129,
   "metadata": {},
   "outputs": [],
   "source": [
    "base_path = \"/home/orsdanilo/Documents/ml_from_scratch/\"\n",
    "raw_fname = \"data/raw/x11.txt\"\n",
    "proc_fname = \"data/processed/x11_clean.txt\"\n",
    "path_to_raw = os.path.join(base_path, raw_fname)\n",
    "path_to_proc = os.path.join(base_path, proc_fname)"
   ]
  },
  {
   "cell_type": "code",
   "execution_count": 134,
   "metadata": {},
   "outputs": [],
   "source": [
    "n_rows = 67\n",
    "n_cols = 5\n",
    "first_line = 39"
   ]
  },
  {
   "cell_type": "code",
   "execution_count": 130,
   "metadata": {},
   "outputs": [],
   "source": [
    "with open(path_to_raw , 'r') as f:\n",
    "    data = f.readlines()"
   ]
  },
  {
   "cell_type": "code",
   "execution_count": 131,
   "metadata": {},
   "outputs": [],
   "source": [
    "data = data[first_line-1:-1]\n",
    "data_clean = []\n",
    "for line in data:\n",
    "    data_clean.append(re.sub(\"\\s+\", \",\", line.strip())+\"\\n\")"
   ]
  },
  {
   "cell_type": "code",
   "execution_count": 132,
   "metadata": {},
   "outputs": [
    {
     "name": "stdout",
     "output_type": "stream",
     "text": [
      "['1,15.50,17.25,0.24,18.38\\n', '2,22.29,18.51,0.20,20.00\\n', '3,12.36,11.13,0.12,11.50\\n', '4,31.84,5.54,0.12,25.00\\n', '5,83.90,5.44,0.04,62.50\\n', '6,72.25,20.37,0.05,82.50\\n', '7,27.14,31.20,0.27,25.00\\n', '8,40.41,4.29,0.10,30.67\\n', '9,12.42,8.69,0.41,12.00\\n', '10,69.42,6.63,0.04,61.25\\n', '11,48.46,27.40,0.12,60.00\\n', '12,69.00,31.23,0.08,67.50\\n', '13,26.09,28.50,0.21,31.00\\n', '14,62.83,29.98,0.17,60.00\\n', '15,77.06,13.59,0.05,72.50\\n', '16,58.83,45.46,0.16,60.33\\n', '17,59.48,35.90,0.32,49.75\\n', 'is,9.00,8.89,0.08,8.50\\n', '19,20.64,23.81,0.24,36.50\\n', '20,81.40,4.54,0.05,60.00\\n', '21,18.92,29.62,0.72,16.25\\n', '22,50.32,21.36,0.19,50.00\\n', '23,21.33,1.53,0.10,11.60\\n', '24,46.85,5.42,0.08,35.00\\n', '25,65.94,22.10,0.09,75.00\\n', '26,38.68,14.55,0.17,31.56\\n', '27,51.19,7.59,0.13,48.50\\n', '28,59.42,49.86,0.13,77.50\\n', '29,24.64,11.46,0.21,21.67\\n', '30,26.94,2.48,0.10,19.75\\n', '31,46.20,31.62,0.26,56.00\\n', '32,26.86,53.73,0.43,25.00\\n', '33,20.00,40.18,0.56,40.00\\n', '34,62.52,15.89,0.05,56.67\\n', '35,66.00,14.25,0.15,51.79\\n', '36,71.41,21.37,0.05,96.67\\n', '37,65.00,13.24,0.08,50.83\\n', '38,36.28,5.85,0.10,34.33\\n', '39,59.88,32.99,0.21,48.75\\n', '40,23.62,28.89,0.24,25.80\\n', '41,24.20,6.29,0.06,20.00\\n', '42,17.09,33.34,0.66,16.00\\n', '43,44.56,16.70,0.15,48.67\\n', '44,34.46,4.20,0.03,20.78\\n', '45,31.55,23.47,0.19,32.50\\n', '46,26.94,8.28,0.10,19.00\\n', '47,58.71,7.40,0.04,51.50\\n', '48,65.74,7.71,0.02,49.17\\n', '49,69.05,46.18,0.22,85.00\\n', '50,57.54,14.98,0.11,58.76\\n', '51,21.73,6.58,0.06,19.33\\n', '52,6.17,13.68,0.18,5.00\\n', '53,51.00,50.50,0.24,65.00\\n', '54,18.25,16.12,0.32,20.00\\n', '55,69.88,31.48,0.07,62.50\\n', '56,26.68,58.60,0.23,35.00\\n', '57,75.73,35.43,0.05,99.17\\n', '58,41.77,4.53,0.08,40.25\\n', '59,48.50,6.82,0.08,39.17\\n', '60,21.89,43.70,0.36,37.50\\n', '61,38.33,2.83,0.04,26.25\\n', '62,53.95,42.54,0.25,52.14\\n', '63,17.17,24.16,0.36,22.50\\n', '64,82.00,7.89,0.03,90.00\\n', '65,40.60,3.27,0.02,28.00\\n', '66,53.89,53.16,0.24,50.00\\n', '67,54.17,5.57,0.06,24.50\\n']\n"
     ]
    }
   ],
   "source": [
    "print(data_clean)"
   ]
  },
  {
   "cell_type": "code",
   "execution_count": 133,
   "metadata": {},
   "outputs": [],
   "source": [
    "with open(path_to_proc, \"w\") as f:\n",
    "    f.writelines(data_clean)"
   ]
  },
  {
   "cell_type": "code",
   "execution_count": 147,
   "metadata": {},
   "outputs": [],
   "source": [
    "d = np.loadtxt(path_to_proc, delimiter=',', usecols=list(range(1, n_cols)), unpack=True)"
   ]
  },
  {
   "cell_type": "code",
   "execution_count": 148,
   "metadata": {
    "scrolled": true
   },
   "outputs": [
    {
     "data": {
      "text/plain": [
       "array([[1.550e+01, 2.229e+01, 1.236e+01, 3.184e+01, 8.390e+01, 7.225e+01,\n",
       "        2.714e+01, 4.041e+01, 1.242e+01, 6.942e+01, 4.846e+01, 6.900e+01,\n",
       "        2.609e+01, 6.283e+01, 7.706e+01, 5.883e+01, 5.948e+01, 9.000e+00,\n",
       "        2.064e+01, 8.140e+01, 1.892e+01, 5.032e+01, 2.133e+01, 4.685e+01,\n",
       "        6.594e+01, 3.868e+01, 5.119e+01, 5.942e+01, 2.464e+01, 2.694e+01,\n",
       "        4.620e+01, 2.686e+01, 2.000e+01, 6.252e+01, 6.600e+01, 7.141e+01,\n",
       "        6.500e+01, 3.628e+01, 5.988e+01, 2.362e+01, 2.420e+01, 1.709e+01,\n",
       "        4.456e+01, 3.446e+01, 3.155e+01, 2.694e+01, 5.871e+01, 6.574e+01,\n",
       "        6.905e+01, 5.754e+01, 2.173e+01, 6.170e+00, 5.100e+01, 1.825e+01,\n",
       "        6.988e+01, 2.668e+01, 7.573e+01, 4.177e+01, 4.850e+01, 2.189e+01,\n",
       "        3.833e+01, 5.395e+01, 1.717e+01, 8.200e+01, 4.060e+01, 5.389e+01,\n",
       "        5.417e+01],\n",
       "       [1.725e+01, 1.851e+01, 1.113e+01, 5.540e+00, 5.440e+00, 2.037e+01,\n",
       "        3.120e+01, 4.290e+00, 8.690e+00, 6.630e+00, 2.740e+01, 3.123e+01,\n",
       "        2.850e+01, 2.998e+01, 1.359e+01, 4.546e+01, 3.590e+01, 8.890e+00,\n",
       "        2.381e+01, 4.540e+00, 2.962e+01, 2.136e+01, 1.530e+00, 5.420e+00,\n",
       "        2.210e+01, 1.455e+01, 7.590e+00, 4.986e+01, 1.146e+01, 2.480e+00,\n",
       "        3.162e+01, 5.373e+01, 4.018e+01, 1.589e+01, 1.425e+01, 2.137e+01,\n",
       "        1.324e+01, 5.850e+00, 3.299e+01, 2.889e+01, 6.290e+00, 3.334e+01,\n",
       "        1.670e+01, 4.200e+00, 2.347e+01, 8.280e+00, 7.400e+00, 7.710e+00,\n",
       "        4.618e+01, 1.498e+01, 6.580e+00, 1.368e+01, 5.050e+01, 1.612e+01,\n",
       "        3.148e+01, 5.860e+01, 3.543e+01, 4.530e+00, 6.820e+00, 4.370e+01,\n",
       "        2.830e+00, 4.254e+01, 2.416e+01, 7.890e+00, 3.270e+00, 5.316e+01,\n",
       "        5.570e+00],\n",
       "       [2.400e-01, 2.000e-01, 1.200e-01, 1.200e-01, 4.000e-02, 5.000e-02,\n",
       "        2.700e-01, 1.000e-01, 4.100e-01, 4.000e-02, 1.200e-01, 8.000e-02,\n",
       "        2.100e-01, 1.700e-01, 5.000e-02, 1.600e-01, 3.200e-01, 8.000e-02,\n",
       "        2.400e-01, 5.000e-02, 7.200e-01, 1.900e-01, 1.000e-01, 8.000e-02,\n",
       "        9.000e-02, 1.700e-01, 1.300e-01, 1.300e-01, 2.100e-01, 1.000e-01,\n",
       "        2.600e-01, 4.300e-01, 5.600e-01, 5.000e-02, 1.500e-01, 5.000e-02,\n",
       "        8.000e-02, 1.000e-01, 2.100e-01, 2.400e-01, 6.000e-02, 6.600e-01,\n",
       "        1.500e-01, 3.000e-02, 1.900e-01, 1.000e-01, 4.000e-02, 2.000e-02,\n",
       "        2.200e-01, 1.100e-01, 6.000e-02, 1.800e-01, 2.400e-01, 3.200e-01,\n",
       "        7.000e-02, 2.300e-01, 5.000e-02, 8.000e-02, 8.000e-02, 3.600e-01,\n",
       "        4.000e-02, 2.500e-01, 3.600e-01, 3.000e-02, 2.000e-02, 2.400e-01,\n",
       "        6.000e-02],\n",
       "       [1.838e+01, 2.000e+01, 1.150e+01, 2.500e+01, 6.250e+01, 8.250e+01,\n",
       "        2.500e+01, 3.067e+01, 1.200e+01, 6.125e+01, 6.000e+01, 6.750e+01,\n",
       "        3.100e+01, 6.000e+01, 7.250e+01, 6.033e+01, 4.975e+01, 8.500e+00,\n",
       "        3.650e+01, 6.000e+01, 1.625e+01, 5.000e+01, 1.160e+01, 3.500e+01,\n",
       "        7.500e+01, 3.156e+01, 4.850e+01, 7.750e+01, 2.167e+01, 1.975e+01,\n",
       "        5.600e+01, 2.500e+01, 4.000e+01, 5.667e+01, 5.179e+01, 9.667e+01,\n",
       "        5.083e+01, 3.433e+01, 4.875e+01, 2.580e+01, 2.000e+01, 1.600e+01,\n",
       "        4.867e+01, 2.078e+01, 3.250e+01, 1.900e+01, 5.150e+01, 4.917e+01,\n",
       "        8.500e+01, 5.876e+01, 1.933e+01, 5.000e+00, 6.500e+01, 2.000e+01,\n",
       "        6.250e+01, 3.500e+01, 9.917e+01, 4.025e+01, 3.917e+01, 3.750e+01,\n",
       "        2.625e+01, 5.214e+01, 2.250e+01, 9.000e+01, 2.800e+01, 5.000e+01,\n",
       "        2.450e+01]])"
      ]
     },
     "execution_count": 148,
     "metadata": {},
     "output_type": "execute_result"
    }
   ],
   "source": [
    "d"
   ]
  },
  {
   "cell_type": "code",
   "execution_count": 190,
   "metadata": {},
   "outputs": [
    {
     "data": {
      "image/png": "[encoded data removed]",
      "text/plain": [
       "<Figure size 432x288 with 1 Axes>"
      ]
     },
     "metadata": {},
     "output_type": "display_data"
    }
   ],
   "source": [
    "fig = plt.figure()\n",
    "fig.patch.set_facecolor('white')\n",
    "\n",
    "plt.scatter(d[2,:], d[-1,:])\n",
    "plt.show()"
   ]
  },
  {
   "cell_type": "markdown",
   "metadata": {},
   "source": [
    "## Arrays"
   ]
  },
  {
   "cell_type": "code",
   "execution_count": 331,
   "metadata": {},
   "outputs": [],
   "source": [
    "def rmse(y, y_pred):\n",
    "    return math.sqrt(np.sum(np.abs(y_pred - y)**2)/y.size)"
   ]
  },
  {
   "cell_type": "code",
   "execution_count": 335,
   "metadata": {},
   "outputs": [
    {
     "data": {
      "text/plain": [
       "array([[18.38],\n",
       "       [20.  ],\n",
       "       [11.5 ],\n",
       "       [25.  ],\n",
       "       [62.5 ],\n",
       "       [82.5 ],\n",
       "       [25.  ],\n",
       "       [30.67],\n",
       "       [12.  ],\n",
       "       [61.25]])"
      ]
     },
     "execution_count": 335,
     "metadata": {},
     "output_type": "execute_result"
    }
   ],
   "source": [
    "y = d[-1].reshape(67,-1)\n",
    "y[:10,:]"
   ]
  },
  {
   "cell_type": "code",
   "execution_count": 336,
   "metadata": {},
   "outputs": [
    {
     "data": {
      "text/plain": [
       "array([[1.550e+01, 1.725e+01, 2.400e-01, 1.000e+00],\n",
       "       [2.229e+01, 1.851e+01, 2.000e-01, 1.000e+00],\n",
       "       [1.236e+01, 1.113e+01, 1.200e-01, 1.000e+00],\n",
       "       [3.184e+01, 5.540e+00, 1.200e-01, 1.000e+00],\n",
       "       [8.390e+01, 5.440e+00, 4.000e-02, 1.000e+00],\n",
       "       [7.225e+01, 2.037e+01, 5.000e-02, 1.000e+00],\n",
       "       [2.714e+01, 3.120e+01, 2.700e-01, 1.000e+00],\n",
       "       [4.041e+01, 4.290e+00, 1.000e-01, 1.000e+00],\n",
       "       [1.242e+01, 8.690e+00, 4.100e-01, 1.000e+00],\n",
       "       [6.942e+01, 6.630e+00, 4.000e-02, 1.000e+00]])"
      ]
     },
     "execution_count": 336,
     "metadata": {},
     "output_type": "execute_result"
    }
   ],
   "source": [
    "x = np.vstack((d[:-1], np.ones(n_rows))).T\n",
    "x[:10,:]"
   ]
  },
  {
   "cell_type": "code",
   "execution_count": 337,
   "metadata": {},
   "outputs": [],
   "source": [
    "x_train = x[:50]\n",
    "x_test = x[50:]\n",
    "y_train = y[:50]\n",
    "y_test = y[50:]"
   ]
  },
  {
   "cell_type": "markdown",
   "metadata": {},
   "source": [
    "## Normal Equation"
   ]
  },
  {
   "cell_type": "markdown",
   "metadata": {},
   "source": [
    "We define a cost function, which will be in this case the sum of squared errors\n",
    "\n",
    ">$J(w) = \\sum (X w - y)^2$\n",
    "\n",
    "Taking its derivative and making it equal to zero, we find values for the weights which minimize the cost function\n",
    "\n",
    "> $X^T X w = X^T y$\n",
    "\n",
    "can be solved for $w$ as\n",
    "\n",
    "> $w = (X^T X)^{-1} X^T y$"
   ]
  },
  {
   "cell_type": "code",
   "execution_count": 338,
   "metadata": {},
   "outputs": [],
   "source": [
    "def weights(x, y):\n",
    "    return np.dot(np.dot(inv(np.dot(x.T, x)),x.T),y)"
   ]
  },
  {
   "cell_type": "code",
   "execution_count": 339,
   "metadata": {},
   "outputs": [
    {
     "data": {
      "text/plain": [
       "array([[  0.84562649],\n",
       "       [  0.54721814],\n",
       "       [-19.7026391 ],\n",
       "       [ -2.03202577]])"
      ]
     },
     "execution_count": 339,
     "metadata": {},
     "output_type": "execute_result"
    }
   ],
   "source": [
    "w = weights(x_train, y_train)\n",
    "w"
   ]
  },
  {
   "cell_type": "code",
   "execution_count": 340,
   "metadata": {},
   "outputs": [
    {
     "data": {
      "text/plain": [
       "10.863378363411924"
      ]
     },
     "execution_count": 340,
     "metadata": {},
     "output_type": "execute_result"
    }
   ],
   "source": [
    "rmse(y_test,np.dot(x_test,w))"
   ]
  },
  {
   "cell_type": "markdown",
   "metadata": {},
   "source": [
    "## Gradient Descent"
   ]
  },
  {
   "cell_type": "markdown",
   "metadata": {},
   "source": [
    "When the number of data points is too large, solving the normal equation might not be practical. We then perform simpler calculations to minimize the cost function step by step, updating the weights as we do it.\n",
    "\n",
    "> $w = w + \\alpha \\nabla J(w)$\n",
    "\n",
    "which is implemented in code as\n",
    "\n",
    "> $w = w - \\frac{\\alpha}{m} X^T (Xw - y)$\n",
    "\n",
    "where $\\alpha$ is the learning rate, and $m$ is the number of examples in $X$"
   ]
  },
  {
   "cell_type": "code",
   "execution_count": 235,
   "metadata": {},
   "outputs": [],
   "source": [
    "def normalized(a, axis=-1, order=2):\n",
    "    l2 = np.atleast_1d(np.linalg.norm(a, order, axis))\n",
    "    l2[l2==0] = 1\n",
    "    return a / np.expand_dims(l2, axis)"
   ]
  },
  {
   "cell_type": "code",
   "execution_count": 341,
   "metadata": {},
   "outputs": [
    {
     "data": {
      "text/plain": [
       "array([[0.03895235, 0.08237303, 0.13196578, 1.        ],\n",
       "       [0.05601599, 0.08838984, 0.10997148, 1.        ],\n",
       "       [0.03106136, 0.05314851, 0.06598289, 1.        ],\n",
       "       [0.08001567, 0.02645488, 0.06598289, 1.        ],\n",
       "       [0.21084531, 0.02597735, 0.0219943 , 1.        ],\n",
       "       [0.18156822, 0.09727181, 0.02749287, 1.        ],\n",
       "       [0.06820431, 0.14898774, 0.1484615 , 1.        ],\n",
       "       [0.10155255, 0.02048581, 0.05498574, 1.        ],\n",
       "       [0.03121214, 0.04149691, 0.22544153, 1.        ],\n",
       "       [0.17445627, 0.0316599 , 0.0219943 , 1.        ]])"
      ]
     },
     "execution_count": 341,
     "metadata": {},
     "output_type": "execute_result"
    }
   ],
   "source": [
    "x_norm = np.vstack((normalized(d[:-1],1), np.ones(n_rows))).T\n",
    "x_norm[:10,:]"
   ]
  },
  {
   "cell_type": "code",
   "execution_count": 370,
   "metadata": {},
   "outputs": [
    {
     "data": {
      "text/plain": [
       "array([[1.],\n",
       "       [1.],\n",
       "       [1.],\n",
       "       [1.]])"
      ]
     },
     "execution_count": 370,
     "metadata": {},
     "output_type": "execute_result"
    }
   ],
   "source": [
    "alpha = 0.5\n",
    "#w = np.random.rand(x.shape[1],1)\n",
    "w = np.ones(x.shape[1]).reshape(-1,1)\n",
    "#w = np.array([[0.84562649],[0.54721814],[-19.7026391 ],[-2.03202577]])\n",
    "w"
   ]
  },
  {
   "cell_type": "code",
   "execution_count": 371,
   "metadata": {},
   "outputs": [],
   "source": [
    "x_train = x_norm[:50]\n",
    "x_test = x_norm[50:]\n",
    "y_train = y[:50]\n",
    "y_test = y[50:]\n",
    "\n",
    "m = x_train.shape[0]"
   ]
  },
  {
   "cell_type": "code",
   "execution_count": 377,
   "metadata": {},
   "outputs": [
    {
     "name": "stdout",
     "output_type": "stream",
     "text": [
      "Stopped at iteration 36795\n"
     ]
    },
    {
     "data": {
      "text/plain": [
       "array([[336.49343619],\n",
       "       [114.59470086],\n",
       "       [-35.83227056],\n",
       "       [ -2.03202577]])"
      ]
     },
     "execution_count": 377,
     "metadata": {},
     "output_type": "execute_result"
    }
   ],
   "source": [
    "rmse_new = np.inf\n",
    "for i in range(100000):\n",
    "    w = w - (alpha/m)*np.dot(x_train.T, np.dot(x_train, w)-y_train)\n",
    "    rmse_old = rmse_new\n",
    "    rmse_new = rmse(y_test,np.dot(x_test,w))\n",
    "    if (rmse_new > rmse_old):\n",
    "        print(\"Stopped at iteration {}\".format(i))\n",
    "        break\n",
    "w"
   ]
  },
  {
   "cell_type": "code",
   "execution_count": 378,
   "metadata": {},
   "outputs": [
    {
     "data": {
      "text/plain": [
       "10.86337836342186"
      ]
     },
     "execution_count": 378,
     "metadata": {},
     "output_type": "execute_result"
    }
   ],
   "source": [
    "rmse(y_test,np.dot(x_test,w))"
   ]
  },
  {
   "cell_type": "code",
   "execution_count": null,
   "metadata": {},
   "outputs": [],
   "source": []
  }
 ],
 "metadata": {
  "kernelspec": {
   "display_name": "Python 3",
   "language": "python",
   "name": "python3"
  },
  "language_info": {
   "codemirror_mode": {
    "name": "ipython",
    "version": 3
   },
   "file_extension": ".py",
   "mimetype": "text/x-python",
   "name": "python",
   "nbconvert_exporter": "python",
   "pygments_lexer": "ipython3",
   "version": "3.6.10"
  }
 },
 "nbformat": 4,
 "nbformat_minor": 4
}
